{
  "nbformat": 4,
  "nbformat_minor": 0,
  "metadata": {
    "colab": {
      "provenance": []
    },
    "kernelspec": {
      "name": "python3",
      "display_name": "Python 3"
    },
    "language_info": {
      "name": "python"
    }
  },
  "cells": [
    {
      "cell_type": "markdown",
      "metadata": {
        "id": "2cB8Srw5VhyM"
      },
      "source": [
        "**IA & Big Data**\n",
        "\n",
        "Prof. Miguel Bozer da Silva - miguel.bozer@senaisp.edu.br\n",
        "\n",
        "---"
      ]
    },
    {
      "cell_type": "code",
      "source": [
        "# Importando as bibliotecas para os modelos\n",
        "import pandas as pd\n",
        "from sklearn.linear_model import LinearRegression\n",
        "from sklearn.ensemble import GradientBoostingRegressor\n",
        "from sklearn.ensemble import RandomForestRegressor\n",
        "from sklearn.tree import DecisionTreeRegressor\n",
        "from sklearn.model_selection import train_test_split\n",
        "from sklearn.metrics import mean_squared_error, mean_absolute_error, r2_score\n",
        "\n",
        "from sklearn.preprocessing import StandardScaler, MinMaxScaler\n",
        "\n",
        "import seaborn as sns\n",
        "import matplotlib.pyplot as plt\n",
        "\n",
        "# Importando o pandas\n",
        "import pandas as pd\n",
        "\n",
        "# Recebendo os dados:\n",
        "from googledrivedownloader import download_file_from_google_drive as gdd"
      ],
      "metadata": {
        "id": "HE5fnl3jK0Z6"
      },
      "execution_count": null,
      "outputs": []
    },
    {
      "cell_type": "markdown",
      "metadata": {
        "id": "F-BQbUJ2ISux"
      },
      "source": [
        "# Preparando os dados"
      ]
    },
    {
      "cell_type": "markdown",
      "metadata": {
        "id": "2E7NAfJDX-Ts"
      },
      "source": [
        "## Tarefa #1: Recebendo os dados"
      ]
    },
    {
      "cell_type": "markdown",
      "metadata": {
        "id": "-n06RqRUYb6R"
      },
      "source": [
        "Para receber os dados podemos fazer o upload do mesmo no Google Drive:"
      ]
    },
    {
      "cell_type": "code",
      "metadata": {
        "id": "RiqXAMcDZGkp",
        "colab": {
          "base_uri": "https://localhost:8080/"
        },
        "outputId": "7f25dabd-ea1d-4b7e-d451-ace6505782ec"
      },
      "source": [
        "data_google_id = '17rC5lOWj89_K5_ALNgMzaA_wfck3Up6X'\n",
        "gdd(file_id=data_google_id,\n",
        "    dest_path = './data.csv', # Faz o download dos dados e salva o mesmo num arquivo nomeado data.csv\n",
        "    showsize = True,\n",
        "    overwrite = True)\n",
        "\n",
        "# Armazenandos os dados em um DataFrame\n",
        "dados = pd.read_csv(\"data.csv\", sep = ',')"
      ],
      "execution_count": null,
      "outputs": [
        {
          "output_type": "stream",
          "name": "stdout",
          "text": [
            "Downloading 17rC5lOWj89_K5_ALNgMzaA_wfck3Up6X into ./data.csv... \n",
            "0.0 B Done.\n"
          ]
        }
      ]
    },
    {
      "cell_type": "markdown",
      "source": [
        "Temos 6 colunas distintas nesse dataset:\n",
        "\n",
        "*   sex: sexo da pessoa *(0: masculino; 1: feminino);*\n",
        "*   bmi: Indice de massa corporal *(valor contínuo)*\n",
        "*   children: Número de filhos *(valor discreto)*\n",
        "*   smoker: Fumante *(0: não fuma; 1: fumante)*\n",
        "*   region: Diferentes regiões onde a pessoa mora (categorizado em 0; 1; 2; 3)\n",
        "*   charges: Valor do seguro de vida *(valor contínuo)*"
      ],
      "metadata": {
        "id": "vaejJUC6JjUk"
      }
    },
    {
      "cell_type": "markdown",
      "metadata": {
        "id": "wv_rBsz8YY4x"
      },
      "source": [
        "## Tarefa #2: Analise Exploratória dos Dados"
      ]
    },
    {
      "cell_type": "code",
      "metadata": {
        "id": "Fr0fir41gcS3"
      },
      "source": [
        "dados.head()"
      ],
      "execution_count": null,
      "outputs": []
    },
    {
      "cell_type": "code",
      "metadata": {
        "id": "_p7GgbgWeCTe"
      },
      "source": [
        "dados.info()"
      ],
      "execution_count": null,
      "outputs": []
    },
    {
      "cell_type": "markdown",
      "metadata": {
        "id": "-kKOi2HKezEe"
      },
      "source": [
        "Desse conjunto de dados podemos ver que o mesmo possui váriaveis do tipo int e float. Logo não há a necessidade do uso de *One Hot Encoding* ou *Label Encoding*\n"
      ]
    },
    {
      "cell_type": "code",
      "metadata": {
        "id": "ewoE_TvEf5DU",
        "colab": {
          "base_uri": "https://localhost:8080/"
        },
        "outputId": "843f3797-3b7d-4156-f55d-1b18c39a2679"
      },
      "source": [
        "dados.shape"
      ],
      "execution_count": null,
      "outputs": [
        {
          "output_type": "execute_result",
          "data": {
            "text/plain": [
              "(348, 7)"
            ]
          },
          "metadata": {},
          "execution_count": 6
        }
      ]
    },
    {
      "cell_type": "markdown",
      "metadata": {
        "id": "CcxxRO1pf7Ct"
      },
      "source": [
        "O valor acima nos informa o tamanho dos nossos dados. Ele possui 348 linhas por 6 colunas. Assim temos 348 exemplos de dados relacionados aos atributos sex, bmi, children, smoker, region e charges."
      ]
    },
    {
      "cell_type": "markdown",
      "metadata": {
        "id": "-TiSDVhxKqwI"
      },
      "source": [
        "Vamos checar se o nosso conjunto de dados possui algum valor nulo:"
      ]
    },
    {
      "cell_type": "code",
      "metadata": {
        "id": "PIMaMA52KmXV"
      },
      "source": [
        "dados.isnull().sum()"
      ],
      "execution_count": null,
      "outputs": []
    },
    {
      "cell_type": "markdown",
      "metadata": {
        "id": "0h-sXCmaLUM9"
      },
      "source": [
        "Podemos ver acima que nenhum dos valores obtidos eram nulos!"
      ]
    },
    {
      "cell_type": "code",
      "metadata": {
        "id": "naREpY_rMSqv"
      },
      "source": [
        "dados.describe().T[['min', 'max']]"
      ],
      "execution_count": null,
      "outputs": []
    },
    {
      "cell_type": "markdown",
      "metadata": {
        "id": "1h45_ymnMSNP"
      },
      "source": [
        "Podemos ver acima dados como a média (mean), desvio padrão (std), valor mínimo (min), valor máximo (max) e os percentuais de 25, 50 e 75% dos dados.\n",
        "\n",
        "O percentual nos indica a quantidade de exemplos que estão até um dado valor. Por exemplo 25% das pessoas estão com o bmi em 26,78 ou menos.\n",
        "\n",
        "Dessa forma, podemos ter uma ideia da distribuição de cada um dos atributos.\n",
        "\n",
        "Além disso, quando comparamos as colunas de *sex*, *children*, *smoker* e *region* com as colunas de *age* e *bmi* notamos uma diferença significativa na ordem de grandeza dessas colunas. Assim, temos que tratar esse problema com a normalização ou padronização dos dados antes do treinamento do mesmo."
      ]
    },
    {
      "cell_type": "markdown",
      "metadata": {
        "id": "Ae2k4Ay1PCMm"
      },
      "source": [
        "Vamos analisar o histograma dos atributos para checar se iremos normalizar ou padronizar os dados."
      ]
    },
    {
      "cell_type": "code",
      "metadata": {
        "id": "nxdnNJXPO7By",
        "colab": {
          "base_uri": "https://localhost:8080/",
          "height": 763
        },
        "outputId": "4b1420d7-2e06-480d-e9fb-8ceac4c8ed20"
      },
      "source": [
        "dados.hist(figsize=(12,12))"
      ],
      "execution_count": null,
      "outputs": [
        {
          "output_type": "execute_result",
          "data": {
            "text/plain": [
              "array([[<Axes: title={'center': 'age'}>, <Axes: title={'center': 'sex'}>,\n",
              "        <Axes: title={'center': 'bmi'}>],\n",
              "       [<Axes: title={'center': 'children'}>,\n",
              "        <Axes: title={'center': 'smoker'}>,\n",
              "        <Axes: title={'center': 'region'}>],\n",
              "       [<Axes: title={'center': 'charges'}>, <Axes: >, <Axes: >]],\n",
              "      dtype=object)"
            ]
          },
          "metadata": {},
          "execution_count": 12
        },
        {
          "output_type": "display_data",
          "data": {
            "text/plain": [
              "<Figure size 1200x1200 with 9 Axes>"
            ],
            "image/png": "[encoded data removed]"
          },
          "metadata": {}
        }
      ]
    },
    {
      "cell_type": "markdown",
      "source": [
        "Como a coluna *age* não segue uma distribuição normal, iremos normalizar e não padronizar nossos dados!"
      ],
      "metadata": {
        "id": "Umj9cYNNRYwL"
      }
    },
    {
      "cell_type": "markdown",
      "metadata": {
        "id": "b-7v7WjvtDTs"
      },
      "source": [
        "# Aplicando IA aos nossos dados"
      ]
    },
    {
      "cell_type": "markdown",
      "metadata": {
        "id": "h7loqmTJhboa"
      },
      "source": [
        "No aprendizado supervisionado temos os dados de entrada do nosso modelo $\\mathbf{x}_{i}$ e também conhecemos os labels deles $\\mathbf{y}_{i}$, isto é o valor esperado da saída do modelo para cada entrada"
      ]
    },
    {
      "cell_type": "code",
      "metadata": {
        "id": "R7UkKNHQtCoV"
      },
      "source": [],
      "execution_count": null,
      "outputs": []
    },
    {
      "cell_type": "markdown",
      "metadata": {
        "id": "97RIURnhtfuE"
      },
      "source": [
        "Nos dados acima o índice $i$ é utilizado para diferenciar cada uma das diferentes pessoas das quais foram levantados os dados acima. **Quais deles poderiam ser nossas entradas e nossas saídas?**"
      ]
    },
    {
      "cell_type": "markdown",
      "metadata": {
        "id": "n4lBkQH8vhdr"
      },
      "source": [
        "**A resposta para isso depende para cada caso!** Para uma empresa que vende seguros, o ideal é ter um modelo que dado os seguintes atributos: **[sex, bmi, children, smoker, region]** eles possam calcular o valor que será cobrado do seguro para essa pessoa **[charges]**"
      ]
    },
    {
      "cell_type": "markdown",
      "metadata": {
        "id": "QhbJaowdz9lM"
      },
      "source": [
        "A imagem a seguir ilustra esse exemplo de divisão de entradas e saídas."
      ]
    },
    {
      "cell_type": "markdown",
      "metadata": {
        "id": "CWxt6x-vy2yU"
      },
      "source": [
        "\n",
        "<center>\n",
        "<img src=\"https://drive.google.com/uc?export=view&id=1Yvziu9GlD5W-j-Zr1EJ3LAgY_yxbViYU\" width=\"500\">"
      ]
    },
    {
      "cell_type": "markdown",
      "metadata": {
        "id": "yLcG4_v10HEw"
      },
      "source": [
        "Assim podemos criar um modelo que será treinado para fazer predições do valor de saída ($\\hat{\\mathbf{y}}_{i}$). O esquema para esse tipo de aprendizado supervisionado pode ser vizualizado a seguir:"
      ]
    },
    {
      "cell_type": "markdown",
      "metadata": {
        "id": "XiQqGKK92bpZ"
      },
      "source": [
        "<center>\n",
        "<img src=\"https://drive.google.com/uc?export=view&id=1hFdoJXTk2jTR3zupjjqlr0dOKuaeOZCE\" width=\"500\">\n"
      ]
    },
    {
      "cell_type": "markdown",
      "metadata": {
        "id": "VVpcYLxy3ZBD"
      },
      "source": [
        "A ideia acima parece muito interessante para criação de diversos modelos e pode ser utilizada em diferentes aplicações.\n",
        "\n",
        "Entretanto, seria interessante ter uma ideia do quão bom é o nosso modelo, isto é, será que o modelo que criamos tem uma boa capacidade para estimar a sua saída ($\\hat{\\mathbf{y}}_{i}$) para novos dados?\n",
        "\n",
        "O que estamos perguntando acima é a verificação da capacidade de generalização do nosso modelo, isto é, a capacidade do modelo de conseguir boas estimativas de saídas para novos dados."
      ]
    },
    {
      "cell_type": "markdown",
      "metadata": {
        "id": "69L9FW3l5t2C"
      },
      "source": [
        "## Divisão dos conjuntos de dados"
      ]
    },
    {
      "cell_type": "markdown",
      "metadata": {
        "id": "mF2OpCNH6oYc"
      },
      "source": [
        "Pensando na pergunta acima, existem duas possibilidades de soluções:\n",
        "\n",
        "\n",
        "\n",
        "*   Poderíamos treinar um modelo com todos os nossos dados e vender o resultado disso para um empresa. A empresa posteriormente diria se o modelo está tendo um bom desempenho ou não. **Cenário ruim: Caso o modelo não esteja com um bom desempenho iriamos prejudicar o nome da empresa**\n",
        "*   Poderíamos dividir os nossos dados em conjunto de treinamento e conjunto de teste. Dessa forma, treinariamos o modelo com o primeiro conjunto e poderíamos utilizar alguma métrica para avaliar o nosso modelo no segundo conjunto de dados. **Assim, teremos uma ideia do desempenho do nosso modelo antes de enviar ao cliente!**\n",
        "\n"
      ]
    },
    {
      "cell_type": "markdown",
      "metadata": {
        "id": "TX8LUCR-FRyT"
      },
      "source": [
        "Na imagem a seguir podemos ver o procedimento para trabalhar com o aprendizado supervisionado com a divisão dos dados em conjunto de treinamento ($\\mathbf{X}_{train}$ e $\\mathbf{y}_{train}$) e no conjunto de teste ($\\mathbf{X}_{test}$ e $\\mathbf{y}_{test}$)\n",
        "\n",
        "<center>\n",
        "<img src=\"https://drive.google.com/uc?export=view&id=1k3nIve0eo-zOjA48YouMHoKJOFfiabS6\" width=\"600\">\n",
        "\n",
        "\n"
      ]
    },
    {
      "cell_type": "markdown",
      "metadata": {
        "id": "kwNM86diGGRU"
      },
      "source": [
        "Dessa forma os nossos dados que possuem a dimensão de 348 exemplos com 6 colunas devem ser divididos em dois conjuntos para podermos trabalhar com o seu aprendizado supervisionado"
      ]
    },
    {
      "cell_type": "markdown",
      "metadata": {
        "id": "S6Yo2drVGSlk"
      },
      "source": [
        "## Tarefa #1: Dividindo o conjunto de dados (Entrada/Saída e Treinamento/Teste)"
      ]
    },
    {
      "cell_type": "code",
      "metadata": {
        "id": "qYU7TwxTGZmN"
      },
      "source": [
        "# Dividindo os dados em Entrada (X) e Saída (y)\n",
        "X = dados.drop(columns=['charges'])\n",
        "y = dados['charges']\n",
        "\n",
        "# Dividindo os dados em conjunto de treino e teste:\n",
        "X_train, X_test, y_train, y_test = train_test_split(X,\n",
        "                                                    y,\n",
        "                                                    test_size=0.2,\n",
        "                                                    random_state=42)\n",
        "\n",
        "# Aplicando a normalização\n",
        "scaler = MinMaxScaler()\n",
        "scaler.fit(X_train[['bmi','age']])\n",
        "X_train[['bmi','age']] = scaler.transform(X_train[['bmi','age']])\n",
        "X_test[['bmi','age']] = scaler.transform(X_test[['bmi','age']])"
      ],
      "execution_count": null,
      "outputs": []
    },
    {
      "cell_type": "code",
      "source": [
        "X_train.head()"
      ],
      "metadata": {
        "id": "6H7YGaZ3qJ3-"
      },
      "execution_count": null,
      "outputs": []
    },
    {
      "cell_type": "markdown",
      "metadata": {
        "id": "IVSL6dCFIA03"
      },
      "source": [
        "No código acima pegamos os nossos dados e dividimos eles em conjunto de treinamento e teste, tendo os dados de entrada $\\mathbf{X}$ e os dados de saída  $\\mathbf{y}$"
      ]
    },
    {
      "cell_type": "markdown",
      "metadata": {
        "id": "YOkI8xJ9WA92"
      },
      "source": [
        "## Tarefa #2: Treinando os modelos"
      ]
    },
    {
      "cell_type": "markdown",
      "metadata": {
        "id": "Uov2SbpoSe5E"
      },
      "source": [
        "### Regressão Linear exemplo Valores do Seguro de Vida"
      ]
    },
    {
      "cell_type": "markdown",
      "metadata": {
        "id": "Ag2vo7kkSmng"
      },
      "source": [
        "Agora que entendemos o conceito da Regressão Linear vamos aplicar ela ao caso do seguro de vida. Vamos treinar o modelo utilizando o conjunto de dados de treinamento:"
      ]
    },
    {
      "cell_type": "code",
      "metadata": {
        "id": "AtELuucVSnOZ"
      },
      "source": [
        "modelo = LinearRegression()\n",
        "modelo.fit(X_train, y_train)\n",
        "y_pred_RL = modelo.predict(X_test)"
      ],
      "execution_count": null,
      "outputs": []
    },
    {
      "cell_type": "markdown",
      "metadata": {
        "id": "ib9uN1o2UXwX"
      },
      "source": [
        "Agora vamos verificar os nossos valores obtidos de previsão desse modelo treinado:"
      ]
    },
    {
      "cell_type": "code",
      "metadata": {
        "id": "BLcIBtpvU37v"
      },
      "source": [
        "y_pred_RL[:10]"
      ],
      "execution_count": null,
      "outputs": []
    },
    {
      "cell_type": "code",
      "metadata": {
        "id": "Cix7BIop2vW-"
      },
      "source": [
        "y_test[:10]"
      ],
      "execution_count": null,
      "outputs": []
    },
    {
      "cell_type": "markdown",
      "source": [
        "### Árvores de Decisão para regressão:"
      ],
      "metadata": {
        "id": "mOOWMjk2Faav"
      }
    },
    {
      "cell_type": "code",
      "source": [
        "modelo = DecisionTreeRegressor(max_depth=3)\n",
        "modelo.fit(X_train, y_train)\n",
        "y_pred_AD = modelo.predict(X_test)"
      ],
      "metadata": {
        "id": "p8_9Dmvmcbe4"
      },
      "execution_count": null,
      "outputs": []
    },
    {
      "cell_type": "markdown",
      "source": [
        "### Random Forest para regressão:"
      ],
      "metadata": {
        "id": "FIhsJAeRHk24"
      }
    },
    {
      "cell_type": "code",
      "source": [
        "modelo = RandomForestRegressor()\n",
        "modelo.fit(X_train, y_train)\n",
        "y_pred_RF = modelo.predict(X_test)"
      ],
      "metadata": {
        "id": "zblmlWK6UqeA"
      },
      "execution_count": null,
      "outputs": []
    },
    {
      "cell_type": "markdown",
      "source": [
        "### Gradient Boosting Regressor:"
      ],
      "metadata": {
        "id": "r0Q9JPOyHtQT"
      }
    },
    {
      "cell_type": "code",
      "source": [
        "modelo = GradientBoostingRegressor(min_samples_leaf=5,\n",
        "                                   n_estimators=50)\n",
        "modelo.fit(X_train, y_train)\n",
        "y_pred_GBC = modelo.predict(X_test)"
      ],
      "metadata": {
        "id": "6xQXofqVdAGw"
      },
      "execution_count": null,
      "outputs": []
    },
    {
      "cell_type": "markdown",
      "source": [
        "### Automatizando os treinamentos"
      ],
      "metadata": {
        "id": "WotcmQ0suWw3"
      }
    },
    {
      "cell_type": "code",
      "source": [
        "y_pred = {} # Dicionário com as previsões do modelo\n",
        "modelos = {'Regressão Linear' : LinearRegression(),\n",
        "'Árvore de Decisão' : DecisionTreeRegressor(max_depth=3),\n",
        "'Floresta Aleatória' : RandomForestRegressor(),\n",
        "'Gradient Boosting Regressor' : GradientBoostingRegressor(min_samples_leaf=5,\n",
        "                                                          n_estimators=50)}\n",
        "\n",
        "for nome_modelo, modelo in modelos.items():\n",
        "  modelo.fit(X_train,y_train)\n",
        "  y_pred[nome_modelo] = modelo.predict(X_test)\n"
      ],
      "metadata": {
        "id": "23f-wwFbubNe"
      },
      "execution_count": null,
      "outputs": []
    },
    {
      "cell_type": "code",
      "source": [
        "tabela = pd.DataFrame(y_pred)\n",
        "tabela['y_test'] = y_test.values\n",
        "tabela.head()"
      ],
      "metadata": {
        "colab": {
          "base_uri": "https://localhost:8080/",
          "height": 241
        },
        "id": "XFkBqsHYwuh3",
        "outputId": "4085a0ac-03d3-4b7a-e30e-d78fbec758f8"
      },
      "execution_count": null,
      "outputs": [
        {
          "output_type": "execute_result",
          "data": {
            "text/plain": [
              "   Regressão Linear  Árvore de Decisão  Floresta Aleatória  \\\n",
              "0      12178.034844       19405.154477        22405.517041   \n",
              "1      13856.730174       19405.154477        18027.847922   \n",
              "2      27499.615219       39940.629858        39533.842217   \n",
              "3       9165.358496        6995.820116         7975.041786   \n",
              "4       8660.104431        6995.820116         5690.943647   \n",
              "\n",
              "   Gradient Boosting Regressor       y_test  \n",
              "0                 18936.275105  13047.33235  \n",
              "1                 15946.557476  11488.31695  \n",
              "2                 37211.710793  34838.87300  \n",
              "3                  9487.347378   7441.05300  \n",
              "4                  7229.462834   6128.79745  "
            ],
            "text/html": [
              "\n",
              "  <div id=\"df-b8a7f2ec-3c98-414a-ae4d-0869f047c507\" class=\"colab-df-container\">\n",
              "    <div>\n",
              "<style scoped>\n",
              "    .dataframe tbody tr th:only-of-type {\n",
              "        vertical-align: middle;\n",
              "    }\n",
              "\n",
              "    .dataframe tbody tr th {\n",
              "        vertical-align: top;\n",
              "    }\n",
              "\n",
              "    .dataframe thead th {\n",
              "        text-align: right;\n",
              "    }\n",
              "</style>\n",
              "<table border=\"1\" class=\"dataframe\">\n",
              "  <thead>\n",
              "    <tr style=\"text-align: right;\">\n",
              "      <th></th>\n",
              "      <th>Regressão Linear</th>\n",
              "      <th>Árvore de Decisão</th>\n",
              "      <th>Floresta Aleatória</th>\n",
              "      <th>Gradient Boosting Regressor</th>\n",
              "      <th>y_test</th>\n",
              "    </tr>\n",
              "  </thead>\n",
              "  <tbody>\n",
              "    <tr>\n",
              "      <th>0</th>\n",
              "      <td>12178.034844</td>\n",
              "      <td>19405.154477</td>\n",
              "      <td>22405.517041</td>\n",
              "      <td>18936.275105</td>\n",
              "      <td>13047.33235</td>\n",
              "    </tr>\n",
              "    <tr>\n",
              "      <th>1</th>\n",
              "      <td>13856.730174</td>\n",
              "      <td>19405.154477</td>\n",
              "      <td>18027.847922</td>\n",
              "      <td>15946.557476</td>\n",
              "      <td>11488.31695</td>\n",
              "    </tr>\n",
              "    <tr>\n",
              "      <th>2</th>\n",
              "      <td>27499.615219</td>\n",
              "      <td>39940.629858</td>\n",
              "      <td>39533.842217</td>\n",
              "      <td>37211.710793</td>\n",
              "      <td>34838.87300</td>\n",
              "    </tr>\n",
              "    <tr>\n",
              "      <th>3</th>\n",
              "      <td>9165.358496</td>\n",
              "      <td>6995.820116</td>\n",
              "      <td>7975.041786</td>\n",
              "      <td>9487.347378</td>\n",
              "      <td>7441.05300</td>\n",
              "    </tr>\n",
              "    <tr>\n",
              "      <th>4</th>\n",
              "      <td>8660.104431</td>\n",
              "      <td>6995.820116</td>\n",
              "      <td>5690.943647</td>\n",
              "      <td>7229.462834</td>\n",
              "      <td>6128.79745</td>\n",
              "    </tr>\n",
              "  </tbody>\n",
              "</table>\n",
              "</div>\n",
              "    <div class=\"colab-df-buttons\">\n",
              "\n",
              "  <div class=\"colab-df-container\">\n",
              "    <button class=\"colab-df-convert\" onclick=\"convertToInteractive('df-b8a7f2ec-3c98-414a-ae4d-0869f047c507')\"\n",
              "            title=\"Convert this dataframe to an interactive table.\"\n",
              "            style=\"display:none;\">\n",
              "\n",
              "  <svg xmlns=\"http://www.w3.org/2000/svg\" height=\"24px\" viewBox=\"0 -960 960 960\">\n",
              "    <path d=\"M120-120v-720h720v720H120Zm60-500h600v-160H180v160Zm220 220h160v-160H400v160Zm0 220h160v-160H400v160ZM180-400h160v-160H180v160Zm440 0h160v-160H620v160ZM180-180h160v-160H180v160Zm440 0h160v-160H620v160Z\"/>\n",
              "  </svg>\n",
              "    </button>\n",
              "\n",
              "  <style>\n",
              "    .colab-df-container {\n",
              "      display:flex;\n",
              "      gap: 12px;\n",
              "    }\n",
              "\n",
              "    .colab-df-convert {\n",
              "      background-color: #E8F0FE;\n",
              "      border: none;\n",
              "      border-radius: 50%;\n",
              "      cursor: pointer;\n",
              "      display: none;\n",
              "      fill: #1967D2;\n",
              "      height: 32px;\n",
              "      padding: 0 0 0 0;\n",
              "      width: 32px;\n",
              "    }\n",
              "\n",
              "    .colab-df-convert:hover {\n",
              "      background-color: #E2EBFA;\n",
              "      box-shadow: 0px 1px 2px rgba(60, 64, 67, 0.3), 0px 1px 3px 1px rgba(60, 64, 67, 0.15);\n",
              "      fill: #174EA6;\n",
              "    }\n",
              "\n",
              "    .colab-df-buttons div {\n",
              "      margin-bottom: 4px;\n",
              "    }\n",
              "\n",
              "    [theme=dark] .colab-df-convert {\n",
              "      background-color: #3B4455;\n",
              "      fill: #D2E3FC;\n",
              "    }\n",
              "\n",
              "    [theme=dark] .colab-df-convert:hover {\n",
              "      background-color: #434B5C;\n",
              "      box-shadow: 0px 1px 3px 1px rgba(0, 0, 0, 0.15);\n",
              "      filter: drop-shadow(0px 1px 2px rgba(0, 0, 0, 0.3));\n",
              "      fill: #FFFFFF;\n",
              "    }\n",
              "  </style>\n",
              "\n",
              "    <script>\n",
              "      const buttonEl =\n",
              "        document.querySelector('#df-b8a7f2ec-3c98-414a-ae4d-0869f047c507 button.colab-df-convert');\n",
              "      buttonEl.style.display =\n",
              "        google.colab.kernel.accessAllowed ? 'block' : 'none';\n",
              "\n",
              "      async function convertToInteractive(key) {\n",
              "        const element = document.querySelector('#df-b8a7f2ec-3c98-414a-ae4d-0869f047c507');\n",
              "        const dataTable =\n",
              "          await google.colab.kernel.invokeFunction('convertToInteractive',\n",
              "                                                    [key], {});\n",
              "        if (!dataTable) return;\n",
              "\n",
              "        const docLinkHtml = 'Like what you see? Visit the ' +\n",
              "          '<a target=\"_blank\" href=https://colab.research.google.com/notebooks/data_table.ipynb>data table notebook</a>'\n",
              "          + ' to learn more about interactive tables.';\n",
              "        element.innerHTML = '';\n",
              "        dataTable['output_type'] = 'display_data';\n",
              "        await google.colab.output.renderOutput(dataTable, element);\n",
              "        const docLink = document.createElement('div');\n",
              "        docLink.innerHTML = docLinkHtml;\n",
              "        element.appendChild(docLink);\n",
              "      }\n",
              "    </script>\n",
              "  </div>\n",
              "\n",
              "\n",
              "    <div id=\"df-98c7b7ff-d42b-480d-b0b3-0b2c6dba841e\">\n",
              "      <button class=\"colab-df-quickchart\" onclick=\"quickchart('df-98c7b7ff-d42b-480d-b0b3-0b2c6dba841e')\"\n",
              "                title=\"Suggest charts\"\n",
              "                style=\"display:none;\">\n",
              "\n",
              "<svg xmlns=\"http://www.w3.org/2000/svg\" height=\"24px\"viewBox=\"0 0 24 24\"\n",
              "     width=\"24px\">\n",
              "    <g>\n",
              "        <path d=\"M19 3H5c-1.1 0-2 .9-2 2v14c0 1.1.9 2 2 2h14c1.1 0 2-.9 2-2V5c0-1.1-.9-2-2-2zM9 17H7v-7h2v7zm4 0h-2V7h2v10zm4 0h-2v-4h2v4z\"/>\n",
              "    </g>\n",
              "</svg>\n",
              "      </button>\n",
              "\n",
              "<style>\n",
              "  .colab-df-quickchart {\n",
              "      --bg-color: #E8F0FE;\n",
              "      --fill-color: #1967D2;\n",
              "      --hover-bg-color: #E2EBFA;\n",
              "      --hover-fill-color: #174EA6;\n",
              "      --disabled-fill-color: #AAA;\n",
              "      --disabled-bg-color: #DDD;\n",
              "  }\n",
              "\n",
              "  [theme=dark] .colab-df-quickchart {\n",
              "      --bg-color: #3B4455;\n",
              "      --fill-color: #D2E3FC;\n",
              "      --hover-bg-color: #434B5C;\n",
              "      --hover-fill-color: #FFFFFF;\n",
              "      --disabled-bg-color: #3B4455;\n",
              "      --disabled-fill-color: #666;\n",
              "  }\n",
              "\n",
              "  .colab-df-quickchart {\n",
              "    background-color: var(--bg-color);\n",
              "    border: none;\n",
              "    border-radius: 50%;\n",
              "    cursor: pointer;\n",
              "    display: none;\n",
              "    fill: var(--fill-color);\n",
              "    height: 32px;\n",
              "    padding: 0;\n",
              "    width: 32px;\n",
              "  }\n",
              "\n",
              "  .colab-df-quickchart:hover {\n",
              "    background-color: var(--hover-bg-color);\n",
              "    box-shadow: 0 1px 2px rgba(60, 64, 67, 0.3), 0 1px 3px 1px rgba(60, 64, 67, 0.15);\n",
              "    fill: var(--button-hover-fill-color);\n",
              "  }\n",
              "\n",
              "  .colab-df-quickchart-complete:disabled,\n",
              "  .colab-df-quickchart-complete:disabled:hover {\n",
              "    background-color: var(--disabled-bg-color);\n",
              "    fill: var(--disabled-fill-color);\n",
              "    box-shadow: none;\n",
              "  }\n",
              "\n",
              "  .colab-df-spinner {\n",
              "    border: 2px solid var(--fill-color);\n",
              "    border-color: transparent;\n",
              "    border-bottom-color: var(--fill-color);\n",
              "    animation:\n",
              "      spin 1s steps(1) infinite;\n",
              "  }\n",
              "\n",
              "  @keyframes spin {\n",
              "    0% {\n",
              "      border-color: transparent;\n",
              "      border-bottom-color: var(--fill-color);\n",
              "      border-left-color: var(--fill-color);\n",
              "    }\n",
              "    20% {\n",
              "      border-color: transparent;\n",
              "      border-left-color: var(--fill-color);\n",
              "      border-top-color: var(--fill-color);\n",
              "    }\n",
              "    30% {\n",
              "      border-color: transparent;\n",
              "      border-left-color: var(--fill-color);\n",
              "      border-top-color: var(--fill-color);\n",
              "      border-right-color: var(--fill-color);\n",
              "    }\n",
              "    40% {\n",
              "      border-color: transparent;\n",
              "      border-right-color: var(--fill-color);\n",
              "      border-top-color: var(--fill-color);\n",
              "    }\n",
              "    60% {\n",
              "      border-color: transparent;\n",
              "      border-right-color: var(--fill-color);\n",
              "    }\n",
              "    80% {\n",
              "      border-color: transparent;\n",
              "      border-right-color: var(--fill-color);\n",
              "      border-bottom-color: var(--fill-color);\n",
              "    }\n",
              "    90% {\n",
              "      border-color: transparent;\n",
              "      border-bottom-color: var(--fill-color);\n",
              "    }\n",
              "  }\n",
              "</style>\n",
              "\n",
              "      <script>\n",
              "        async function quickchart(key) {\n",
              "          const quickchartButtonEl =\n",
              "            document.querySelector('#' + key + ' button');\n",
              "          quickchartButtonEl.disabled = true;  // To prevent multiple clicks.\n",
              "          quickchartButtonEl.classList.add('colab-df-spinner');\n",
              "          try {\n",
              "            const charts = await google.colab.kernel.invokeFunction(\n",
              "                'suggestCharts', [key], {});\n",
              "          } catch (error) {\n",
              "            console.error('Error during call to suggestCharts:', error);\n",
              "          }\n",
              "          quickchartButtonEl.classList.remove('colab-df-spinner');\n",
              "          quickchartButtonEl.classList.add('colab-df-quickchart-complete');\n",
              "        }\n",
              "        (() => {\n",
              "          let quickchartButtonEl =\n",
              "            document.querySelector('#df-98c7b7ff-d42b-480d-b0b3-0b2c6dba841e button');\n",
              "          quickchartButtonEl.style.display =\n",
              "            google.colab.kernel.accessAllowed ? 'block' : 'none';\n",
              "        })();\n",
              "      </script>\n",
              "    </div>\n",
              "\n",
              "    </div>\n",
              "  </div>\n"
            ],
            "application/vnd.google.colaboratory.intrinsic+json": {
              "type": "dataframe",
              "variable_name": "tabela",
              "summary": "{\n  \"name\": \"tabela\",\n  \"rows\": 70,\n  \"fields\": [\n    {\n      \"column\": \"Regress\\u00e3o Linear\",\n      \"properties\": {\n        \"dtype\": \"number\",\n        \"std\": 11196.011628595728,\n        \"min\": -2954.9769612279224,\n        \"max\": 40688.89453873227,\n        \"num_unique_values\": 70,\n        \"samples\": [\n          6229.526944451969,\n          12178.034844363556,\n          29089.706544964843\n        ],\n        \"semantic_type\": \"\",\n        \"description\": \"\"\n      }\n    },\n    {\n      \"column\": \"\\u00c1rvore de Decis\\u00e3o\",\n      \"properties\": {\n        \"dtype\": \"number\",\n        \"std\": 13443.991103480159,\n        \"min\": 2731.960310526316,\n        \"max\": 46613.78527777778,\n        \"num_unique_values\": 8,\n        \"samples\": [\n          39940.629858260865,\n          2731.960310526316,\n          19405.154477142856\n        ],\n        \"semantic_type\": \"\",\n        \"description\": \"\"\n      }\n    },\n    {\n      \"column\": \"Floresta Aleat\\u00f3ria\",\n      \"properties\": {\n        \"dtype\": \"number\",\n        \"std\": 13203.382668423357,\n        \"min\": 1519.2698169999992,\n        \"max\": 46900.29163100002,\n        \"num_unique_values\": 69,\n        \"samples\": [\n          6139.075020999998,\n          22405.517041000006,\n          12554.065142899995\n        ],\n        \"semantic_type\": \"\",\n        \"description\": \"\"\n      }\n    },\n    {\n      \"column\": \"Gradient Boosting Regressor\",\n      \"properties\": {\n        \"dtype\": \"number\",\n        \"std\": 12635.65062220164,\n        \"min\": 1760.0849582972667,\n        \"max\": 45998.723885351326,\n        \"num_unique_values\": 65,\n        \"samples\": [\n          4570.0530491199515,\n          9454.847246846792,\n          18936.275105142206\n        ],\n        \"semantic_type\": \"\",\n        \"description\": \"\"\n      }\n    },\n    {\n      \"column\": \"y_test\",\n      \"properties\": {\n        \"dtype\": \"number\",\n        \"std\": 13558.801132646335,\n        \"min\": 1137.011,\n        \"max\": 48549.17835,\n        \"num_unique_values\": 70,\n        \"samples\": [\n          5152.134,\n          13047.33235,\n          35491.64\n        ],\n        \"semantic_type\": \"\",\n        \"description\": \"\"\n      }\n    }\n  ]\n}"
            }
          },
          "metadata": {},
          "execution_count": 27
        }
      ]
    },
    {
      "cell_type": "markdown",
      "metadata": {
        "id": "dd4L7B1Ui-80"
      },
      "source": [
        "###Tarefa #3: Métricas de desempenho dos modelos\n"
      ]
    },
    {
      "cell_type": "markdown",
      "source": [
        "#### Mean Squared Error (MSE)"
      ],
      "metadata": {
        "id": "B_PwCqnGVYGc"
      }
    },
    {
      "cell_type": "markdown",
      "metadata": {
        "id": "k_3hk2mXjDFb"
      },
      "source": [
        "Mean squared error (MSE):\n",
        "Em português, erro quadrático médio, essa métrica penaliza mais erros maiores, já que os erros (diferença entre o valor previsto e o correto) são elevados ao quadrado. Podemos ter dificuldade em interpretar no contexto real o que o erro obtido significa."
      ]
    },
    {
      "cell_type": "markdown",
      "metadata": {
        "id": "c5bz1Wb0YZeI"
      },
      "source": [
        "$MSE = \\frac{1}{m}\\sum^{m}_{i=1}(\\hat{y}^{(i)}-y^{(i)})^{2}$"
      ]
    },
    {
      "cell_type": "code",
      "metadata": {
        "id": "HT2pdC28jExU"
      },
      "source": [],
      "execution_count": null,
      "outputs": []
    },
    {
      "cell_type": "markdown",
      "metadata": {
        "id": "VTLipQjJjL87"
      },
      "source": [
        "#### Mean absolute error (MAE):\n",
        "Em português, erro absoluto médio, essa métrica basicamente faz a média do erro absoluto de cada previsão. Facilita a interpretação no modelo real, mas temos sempre que ter em mente que erros maiores (outliers) podem atrapalhar muito a ideia obtida pela média:"
      ]
    },
    {
      "cell_type": "markdown",
      "metadata": {
        "id": "JqZkk8ETYn-B"
      },
      "source": [
        "$MAE = \\frac{1}{m}\\sum^{m}_{i=1}|\\hat{y}^{(i)}-y^{(i)}|$"
      ]
    },
    {
      "cell_type": "code",
      "metadata": {
        "id": "sK6Hl95HjM8z"
      },
      "source": [],
      "execution_count": null,
      "outputs": []
    },
    {
      "cell_type": "markdown",
      "metadata": {
        "id": "8NqPfWVijVSU"
      },
      "source": [
        "#### R<sup>2</sup>:\n",
        "O erro \"R quadrado\" é uma métrica que varia entre -∞ e 1 e é uma razão que indica o quão bom o nosso modelo está em comparação com um modelo \"naive\", que faz a predição com base no valor médio do target. Quanto maior seu valor, melhor é nosso modelo com relação a esse modelo mais simplista."
      ]
    },
    {
      "cell_type": "code",
      "metadata": {
        "id": "TiM4xvTRjcbM"
      },
      "source": [],
      "execution_count": null,
      "outputs": []
    },
    {
      "cell_type": "markdown",
      "metadata": {
        "id": "nhiePch6Yzim"
      },
      "source": [
        "$R^{2} = 1- \\frac{1}{m}\\frac{\\sum^{m}_{i=1}(y^{(i)}-\\hat{y}^{(i)})^{2}}{\\sum^{m}_{i=1}(y^{(i)}-\\bar{y}^{(i)})^{2}}$"
      ]
    },
    {
      "cell_type": "markdown",
      "source": [
        "#### Métricas para todos os modelos"
      ],
      "metadata": {
        "id": "hyoLSF8CVjQE"
      }
    },
    {
      "cell_type": "markdown",
      "source": [
        "Vamos agora obter todas as métricas dos modelos treinados para comparação:"
      ],
      "metadata": {
        "id": "w-AZLernUf8r"
      }
    },
    {
      "cell_type": "code",
      "source": [],
      "metadata": {
        "id": "Vgwp4unFUjPr"
      },
      "execution_count": null,
      "outputs": []
    },
    {
      "cell_type": "code",
      "source": [],
      "metadata": {
        "id": "isFyAqrtV17k"
      },
      "execution_count": null,
      "outputs": []
    },
    {
      "cell_type": "markdown",
      "source": [
        "Podemos observar que o melhor modelo (menor MAE e MSE e maior R2 score) é o Gradient Boosting Regressor"
      ],
      "metadata": {
        "id": "8TigRQPJWoSt"
      }
    },
    {
      "cell_type": "markdown",
      "metadata": {
        "id": "4c-yf5y7ZJKr"
      },
      "source": [
        "# Exercício"
      ]
    },
    {
      "cell_type": "markdown",
      "metadata": {
        "id": "32zMAGoiZMHU"
      },
      "source": [
        "Vamos analisar um conjunto de dados de jogadores de Counter Striker e aplicar um modelo de regressão linear desses dados. O conjunto de dados é carregado a seguir:"
      ]
    },
    {
      "cell_type": "code",
      "metadata": {
        "id": "WJd2_qI-Z26M",
        "colab": {
          "base_uri": "https://localhost:8080/"
        },
        "outputId": "4eadbd3e-02cb-41b4-995e-a813dc47a4c3"
      },
      "source": [
        "# Importando as bibliotecas para os modelos\n",
        "import pandas as pd\n",
        "from sklearn.linear_model import LinearRegression\n",
        "from sklearn.model_selection import train_test_split\n",
        "from sklearn.metrics import mean_squared_error, mean_absolute_error, r2_score\n",
        "\n",
        "from sklearn.preprocessing import StandardScaler, MinMaxScaler\n",
        "\n",
        "import seaborn as sns\n",
        "import matplotlib.pyplot as plt\n",
        "\n",
        "# Importando o pandas\n",
        "import pandas as pd\n",
        "\n",
        "# Recebendo os dados:\n",
        "from googledrivedownloader import download_file_from_google_drive as gdd\n",
        "\n",
        "data_google_id = '1tLbBqTphKeaYTSvj_vKQS759qtrw51Vk'\n",
        "gdd(file_id=data_google_id,\n",
        "    dest_path = './cs_data.csv', # Faz o download dos dados e salva o mesmo num arquivo nomeado data.csv\n",
        "    showsize = True,\n",
        "    overwrite=True)\n",
        "\n",
        "# Armazenandos os dados em um DataFrame\n",
        "cs_data = pd.read_csv(\"cs_data.csv\", index_col=0 )"
      ],
      "execution_count": null,
      "outputs": [
        {
          "output_type": "stream",
          "name": "stdout",
          "text": [
            "Downloading 1tLbBqTphKeaYTSvj_vKQS759qtrw51Vk into ./cs_data.csv... \n",
            "672.0 KiB Done.\n"
          ]
        }
      ]
    },
    {
      "cell_type": "markdown",
      "metadata": {
        "id": "ZfJboiSidihS"
      },
      "source": [
        "Responder os itens solicitados na sequencia:"
      ]
    },
    {
      "cell_type": "markdown",
      "metadata": {
        "id": "-iwDlPGPcH5S"
      },
      "source": [
        "a) Fazer a análise dos dados"
      ]
    },
    {
      "cell_type": "code",
      "metadata": {
        "id": "oelKsJy8cN70",
        "colab": {
          "base_uri": "https://localhost:8080/",
          "height": 237
        },
        "outputId": "13c29e63-ec5b-417d-d056-fd1c8827c9e0"
      },
      "source": [
        "# seu código aqui\n",
        "cs_data.head()"
      ],
      "execution_count": null,
      "outputs": [
        {
          "output_type": "execute_result",
          "data": {
            "text/plain": [
              "             Ping  Kills  Assists  Deaths  MVP  HSP  Score\n",
              "Player Name                                               \n",
              "DNB            45     38        4      20    8   42     90\n",
              "link1n         31     22        3      17    5   54     51\n",
              "sn0w           42     14        4      20    0   40     42\n",
              "reedkihaddi    90     13        3      23    0   28     33\n",
              "pEhnol         33     11        4      27    0   54     26"
            ],
            "text/html": [
              "\n",
              "  <div id=\"df-784ea878-765e-42c7-ae2c-f1e39232cd96\" class=\"colab-df-container\">\n",
              "    <div>\n",
              "<style scoped>\n",
              "    .dataframe tbody tr th:only-of-type {\n",
              "        vertical-align: middle;\n",
              "    }\n",
              "\n",
              "    .dataframe tbody tr th {\n",
              "        vertical-align: top;\n",
              "    }\n",
              "\n",
              "    .dataframe thead th {\n",
              "        text-align: right;\n",
              "    }\n",
              "</style>\n",
              "<table border=\"1\" class=\"dataframe\">\n",
              "  <thead>\n",
              "    <tr style=\"text-align: right;\">\n",
              "      <th></th>\n",
              "      <th>Ping</th>\n",
              "      <th>Kills</th>\n",
              "      <th>Assists</th>\n",
              "      <th>Deaths</th>\n",
              "      <th>MVP</th>\n",
              "      <th>HSP</th>\n",
              "      <th>Score</th>\n",
              "    </tr>\n",
              "    <tr>\n",
              "      <th>Player Name</th>\n",
              "      <th></th>\n",
              "      <th></th>\n",
              "      <th></th>\n",
              "      <th></th>\n",
              "      <th></th>\n",
              "      <th></th>\n",
              "      <th></th>\n",
              "    </tr>\n",
              "  </thead>\n",
              "  <tbody>\n",
              "    <tr>\n",
              "      <th>DNB</th>\n",
              "      <td>45</td>\n",
              "      <td>38</td>\n",
              "      <td>4</td>\n",
              "      <td>20</td>\n",
              "      <td>8</td>\n",
              "      <td>42</td>\n",
              "      <td>90</td>\n",
              "    </tr>\n",
              "    <tr>\n",
              "      <th>link1n</th>\n",
              "      <td>31</td>\n",
              "      <td>22</td>\n",
              "      <td>3</td>\n",
              "      <td>17</td>\n",
              "      <td>5</td>\n",
              "      <td>54</td>\n",
              "      <td>51</td>\n",
              "    </tr>\n",
              "    <tr>\n",
              "      <th>sn0w</th>\n",
              "      <td>42</td>\n",
              "      <td>14</td>\n",
              "      <td>4</td>\n",
              "      <td>20</td>\n",
              "      <td>0</td>\n",
              "      <td>40</td>\n",
              "      <td>42</td>\n",
              "    </tr>\n",
              "    <tr>\n",
              "      <th>reedkihaddi</th>\n",
              "      <td>90</td>\n",
              "      <td>13</td>\n",
              "      <td>3</td>\n",
              "      <td>23</td>\n",
              "      <td>0</td>\n",
              "      <td>28</td>\n",
              "      <td>33</td>\n",
              "    </tr>\n",
              "    <tr>\n",
              "      <th>pEhnol</th>\n",
              "      <td>33</td>\n",
              "      <td>11</td>\n",
              "      <td>4</td>\n",
              "      <td>27</td>\n",
              "      <td>0</td>\n",
              "      <td>54</td>\n",
              "      <td>26</td>\n",
              "    </tr>\n",
              "  </tbody>\n",
              "</table>\n",
              "</div>\n",
              "    <div class=\"colab-df-buttons\">\n",
              "\n",
              "  <div class=\"colab-df-container\">\n",
              "    <button class=\"colab-df-convert\" onclick=\"convertToInteractive('df-784ea878-765e-42c7-ae2c-f1e39232cd96')\"\n",
              "            title=\"Convert this dataframe to an interactive table.\"\n",
              "            style=\"display:none;\">\n",
              "\n",
              "  <svg xmlns=\"http://www.w3.org/2000/svg\" height=\"24px\" viewBox=\"0 -960 960 960\">\n",
              "    <path d=\"M120-120v-720h720v720H120Zm60-500h600v-160H180v160Zm220 220h160v-160H400v160Zm0 220h160v-160H400v160ZM180-400h160v-160H180v160Zm440 0h160v-160H620v160ZM180-180h160v-160H180v160Zm440 0h160v-160H620v160Z\"/>\n",
              "  </svg>\n",
              "    </button>\n",
              "\n",
              "  <style>\n",
              "    .colab-df-container {\n",
              "      display:flex;\n",
              "      gap: 12px;\n",
              "    }\n",
              "\n",
              "    .colab-df-convert {\n",
              "      background-color: #E8F0FE;\n",
              "      border: none;\n",
              "      border-radius: 50%;\n",
              "      cursor: pointer;\n",
              "      display: none;\n",
              "      fill: #1967D2;\n",
              "      height: 32px;\n",
              "      padding: 0 0 0 0;\n",
              "      width: 32px;\n",
              "    }\n",
              "\n",
              "    .colab-df-convert:hover {\n",
              "      background-color: #E2EBFA;\n",
              "      box-shadow: 0px 1px 2px rgba(60, 64, 67, 0.3), 0px 1px 3px 1px rgba(60, 64, 67, 0.15);\n",
              "      fill: #174EA6;\n",
              "    }\n",
              "\n",
              "    .colab-df-buttons div {\n",
              "      margin-bottom: 4px;\n",
              "    }\n",
              "\n",
              "    [theme=dark] .colab-df-convert {\n",
              "      background-color: #3B4455;\n",
              "      fill: #D2E3FC;\n",
              "    }\n",
              "\n",
              "    [theme=dark] .colab-df-convert:hover {\n",
              "      background-color: #434B5C;\n",
              "      box-shadow: 0px 1px 3px 1px rgba(0, 0, 0, 0.15);\n",
              "      filter: drop-shadow(0px 1px 2px rgba(0, 0, 0, 0.3));\n",
              "      fill: #FFFFFF;\n",
              "    }\n",
              "  </style>\n",
              "\n",
              "    <script>\n",
              "      const buttonEl =\n",
              "        document.querySelector('#df-784ea878-765e-42c7-ae2c-f1e39232cd96 button.colab-df-convert');\n",
              "      buttonEl.style.display =\n",
              "        google.colab.kernel.accessAllowed ? 'block' : 'none';\n",
              "\n",
              "      async function convertToInteractive(key) {\n",
              "        const element = document.querySelector('#df-784ea878-765e-42c7-ae2c-f1e39232cd96');\n",
              "        const dataTable =\n",
              "          await google.colab.kernel.invokeFunction('convertToInteractive',\n",
              "                                                    [key], {});\n",
              "        if (!dataTable) return;\n",
              "\n",
              "        const docLinkHtml = 'Like what you see? Visit the ' +\n",
              "          '<a target=\"_blank\" href=https://colab.research.google.com/notebooks/data_table.ipynb>data table notebook</a>'\n",
              "          + ' to learn more about interactive tables.';\n",
              "        element.innerHTML = '';\n",
              "        dataTable['output_type'] = 'display_data';\n",
              "        await google.colab.output.renderOutput(dataTable, element);\n",
              "        const docLink = document.createElement('div');\n",
              "        docLink.innerHTML = docLinkHtml;\n",
              "        element.appendChild(docLink);\n",
              "      }\n",
              "    </script>\n",
              "  </div>\n",
              "\n",
              "\n",
              "    <div id=\"df-affcf554-4036-4915-9950-4524e4bce84e\">\n",
              "      <button class=\"colab-df-quickchart\" onclick=\"quickchart('df-affcf554-4036-4915-9950-4524e4bce84e')\"\n",
              "                title=\"Suggest charts\"\n",
              "                style=\"display:none;\">\n",
              "\n",
              "<svg xmlns=\"http://www.w3.org/2000/svg\" height=\"24px\"viewBox=\"0 0 24 24\"\n",
              "     width=\"24px\">\n",
              "    <g>\n",
              "        <path d=\"M19 3H5c-1.1 0-2 .9-2 2v14c0 1.1.9 2 2 2h14c1.1 0 2-.9 2-2V5c0-1.1-.9-2-2-2zM9 17H7v-7h2v7zm4 0h-2V7h2v10zm4 0h-2v-4h2v4z\"/>\n",
              "    </g>\n",
              "</svg>\n",
              "      </button>\n",
              "\n",
              "<style>\n",
              "  .colab-df-quickchart {\n",
              "      --bg-color: #E8F0FE;\n",
              "      --fill-color: #1967D2;\n",
              "      --hover-bg-color: #E2EBFA;\n",
              "      --hover-fill-color: #174EA6;\n",
              "      --disabled-fill-color: #AAA;\n",
              "      --disabled-bg-color: #DDD;\n",
              "  }\n",
              "\n",
              "  [theme=dark] .colab-df-quickchart {\n",
              "      --bg-color: #3B4455;\n",
              "      --fill-color: #D2E3FC;\n",
              "      --hover-bg-color: #434B5C;\n",
              "      --hover-fill-color: #FFFFFF;\n",
              "      --disabled-bg-color: #3B4455;\n",
              "      --disabled-fill-color: #666;\n",
              "  }\n",
              "\n",
              "  .colab-df-quickchart {\n",
              "    background-color: var(--bg-color);\n",
              "    border: none;\n",
              "    border-radius: 50%;\n",
              "    cursor: pointer;\n",
              "    display: none;\n",
              "    fill: var(--fill-color);\n",
              "    height: 32px;\n",
              "    padding: 0;\n",
              "    width: 32px;\n",
              "  }\n",
              "\n",
              "  .colab-df-quickchart:hover {\n",
              "    background-color: var(--hover-bg-color);\n",
              "    box-shadow: 0 1px 2px rgba(60, 64, 67, 0.3), 0 1px 3px 1px rgba(60, 64, 67, 0.15);\n",
              "    fill: var(--button-hover-fill-color);\n",
              "  }\n",
              "\n",
              "  .colab-df-quickchart-complete:disabled,\n",
              "  .colab-df-quickchart-complete:disabled:hover {\n",
              "    background-color: var(--disabled-bg-color);\n",
              "    fill: var(--disabled-fill-color);\n",
              "    box-shadow: none;\n",
              "  }\n",
              "\n",
              "  .colab-df-spinner {\n",
              "    border: 2px solid var(--fill-color);\n",
              "    border-color: transparent;\n",
              "    border-bottom-color: var(--fill-color);\n",
              "    animation:\n",
              "      spin 1s steps(1) infinite;\n",
              "  }\n",
              "\n",
              "  @keyframes spin {\n",
              "    0% {\n",
              "      border-color: transparent;\n",
              "      border-bottom-color: var(--fill-color);\n",
              "      border-left-color: var(--fill-color);\n",
              "    }\n",
              "    20% {\n",
              "      border-color: transparent;\n",
              "      border-left-color: var(--fill-color);\n",
              "      border-top-color: var(--fill-color);\n",
              "    }\n",
              "    30% {\n",
              "      border-color: transparent;\n",
              "      border-left-color: var(--fill-color);\n",
              "      border-top-color: var(--fill-color);\n",
              "      border-right-color: var(--fill-color);\n",
              "    }\n",
              "    40% {\n",
              "      border-color: transparent;\n",
              "      border-right-color: var(--fill-color);\n",
              "      border-top-color: var(--fill-color);\n",
              "    }\n",
              "    60% {\n",
              "      border-color: transparent;\n",
              "      border-right-color: var(--fill-color);\n",
              "    }\n",
              "    80% {\n",
              "      border-color: transparent;\n",
              "      border-right-color: var(--fill-color);\n",
              "      border-bottom-color: var(--fill-color);\n",
              "    }\n",
              "    90% {\n",
              "      border-color: transparent;\n",
              "      border-bottom-color: var(--fill-color);\n",
              "    }\n",
              "  }\n",
              "</style>\n",
              "\n",
              "      <script>\n",
              "        async function quickchart(key) {\n",
              "          const quickchartButtonEl =\n",
              "            document.querySelector('#' + key + ' button');\n",
              "          quickchartButtonEl.disabled = true;  // To prevent multiple clicks.\n",
              "          quickchartButtonEl.classList.add('colab-df-spinner');\n",
              "          try {\n",
              "            const charts = await google.colab.kernel.invokeFunction(\n",
              "                'suggestCharts', [key], {});\n",
              "          } catch (error) {\n",
              "            console.error('Error during call to suggestCharts:', error);\n",
              "          }\n",
              "          quickchartButtonEl.classList.remove('colab-df-spinner');\n",
              "          quickchartButtonEl.classList.add('colab-df-quickchart-complete');\n",
              "        }\n",
              "        (() => {\n",
              "          let quickchartButtonEl =\n",
              "            document.querySelector('#df-affcf554-4036-4915-9950-4524e4bce84e button');\n",
              "          quickchartButtonEl.style.display =\n",
              "            google.colab.kernel.accessAllowed ? 'block' : 'none';\n",
              "        })();\n",
              "      </script>\n",
              "    </div>\n",
              "\n",
              "    </div>\n",
              "  </div>\n"
            ],
            "application/vnd.google.colaboratory.intrinsic+json": {
              "type": "dataframe",
              "variable_name": "cs_data",
              "summary": "{\n  \"name\": \"cs_data\",\n  \"rows\": 22924,\n  \"fields\": [\n    {\n      \"column\": \"Player Name\",\n      \"properties\": {\n        \"dtype\": \"string\",\n        \"num_unique_values\": 14129,\n        \"samples\": [\n          \"KoDoMo\\u2665\",\n          \"Hyrex Gaming YT #MakingNewTeam\",\n          \"Twilight\"\n        ],\n        \"semantic_type\": \"\",\n        \"description\": \"\"\n      }\n    },\n    {\n      \"column\": \"Ping\",\n      \"properties\": {\n        \"dtype\": \"number\",\n        \"std\": 41,\n        \"min\": 0,\n        \"max\": 996,\n        \"num_unique_values\": 288,\n        \"samples\": [\n          9,\n          119,\n          480\n        ],\n        \"semantic_type\": \"\",\n        \"description\": \"\"\n      }\n    },\n    {\n      \"column\": \"Kills\",\n      \"properties\": {\n        \"dtype\": \"number\",\n        \"std\": 7,\n        \"min\": -4,\n        \"max\": 64,\n        \"num_unique_values\": 57,\n        \"samples\": [\n          38,\n          26,\n          28\n        ],\n        \"semantic_type\": \"\",\n        \"description\": \"\"\n      }\n    },\n    {\n      \"column\": \"Assists\",\n      \"properties\": {\n        \"dtype\": \"number\",\n        \"std\": 2,\n        \"min\": 0,\n        \"max\": 18,\n        \"num_unique_values\": 17,\n        \"samples\": [\n          4,\n          3,\n          1\n        ],\n        \"semantic_type\": \"\",\n        \"description\": \"\"\n      }\n    },\n    {\n      \"column\": \"Deaths\",\n      \"properties\": {\n        \"dtype\": \"number\",\n        \"std\": 4,\n        \"min\": 0,\n        \"max\": 29,\n        \"num_unique_values\": 30,\n        \"samples\": [\n          2,\n          9,\n          7\n        ],\n        \"semantic_type\": \"\",\n        \"description\": \"\"\n      }\n    },\n    {\n      \"column\": \"MVP\",\n      \"properties\": {\n        \"dtype\": \"number\",\n        \"std\": 2,\n        \"min\": 0,\n        \"max\": 16,\n        \"num_unique_values\": 14,\n        \"samples\": [\n          11,\n          12,\n          8\n        ],\n        \"semantic_type\": \"\",\n        \"description\": \"\"\n      }\n    },\n    {\n      \"column\": \"HSP\",\n      \"properties\": {\n        \"dtype\": \"number\",\n        \"std\": 15,\n        \"min\": 0,\n        \"max\": 100,\n        \"num_unique_values\": 90,\n        \"samples\": [\n          16,\n          58,\n          11\n        ],\n        \"semantic_type\": \"\",\n        \"description\": \"\"\n      }\n    },\n    {\n      \"column\": \"Score\",\n      \"properties\": {\n        \"dtype\": \"number\",\n        \"std\": 16,\n        \"min\": 0,\n        \"max\": 145,\n        \"num_unique_values\": 119,\n        \"samples\": [\n          25,\n          75,\n          26\n        ],\n        \"semantic_type\": \"\",\n        \"description\": \"\"\n      }\n    }\n  ]\n}"
            }
          },
          "metadata": {},
          "execution_count": 9
        }
      ]
    },
    {
      "cell_type": "markdown",
      "metadata": {
        "id": "ehbfNhHbcQ29"
      },
      "source": [
        "b) Fazer a análise estatística dos dados"
      ]
    },
    {
      "cell_type": "code",
      "metadata": {
        "id": "wVTlAxSacTgn"
      },
      "source": [
        "# seu código aqui"
      ],
      "execution_count": null,
      "outputs": []
    },
    {
      "cell_type": "markdown",
      "metadata": {
        "id": "GVBlXl4qcUUn"
      },
      "source": [
        "c) Fazer a divisão dos dados em conjunto de treinamento e teste, sendo o Score o valor que desejamos como saída do modelo"
      ]
    },
    {
      "cell_type": "markdown",
      "metadata": {
        "id": "4zPcbc-AcXCJ"
      },
      "source": [
        "Obs.: Para o conjunto de dados de entrada, excluir TAMBÉM a coluna Player id. (Essa coluna é apenas o nome dos jogadores e não possui nenhuma informação)"
      ]
    },
    {
      "cell_type": "code",
      "metadata": {
        "id": "1uwK0d82cWmZ"
      },
      "source": [
        "# seu código aqui"
      ],
      "execution_count": null,
      "outputs": []
    },
    {
      "cell_type": "markdown",
      "metadata": {
        "id": "bCZDWz87ckPZ"
      },
      "source": [
        "d) Para os dados que foram divididos anteriormente, realizar o seu treinamento com um modelo de Regressão Linear"
      ]
    },
    {
      "cell_type": "code",
      "metadata": {
        "id": "p4YiP75DdKpd"
      },
      "source": [
        "# seu código aqui"
      ],
      "execution_count": null,
      "outputs": []
    },
    {
      "cell_type": "markdown",
      "metadata": {
        "id": "n1dwTC5Tdmrc"
      },
      "source": [
        "e) Fazer a previsão para o conjunto dos dados de teste"
      ]
    },
    {
      "cell_type": "code",
      "metadata": {
        "id": "lgvuwDE7fw3_"
      },
      "source": [
        "# seu código aqui"
      ],
      "execution_count": null,
      "outputs": []
    },
    {
      "cell_type": "markdown",
      "metadata": {
        "id": "T9meKVDIfxzQ"
      },
      "source": [
        "f) Calcular as métricas de desempenho"
      ]
    },
    {
      "cell_type": "code",
      "metadata": {
        "id": "86hRQMKFfzZI"
      },
      "source": [],
      "execution_count": null,
      "outputs": []
    },
    {
      "cell_type": "markdown",
      "metadata": {
        "id": "QkOHXN7BR1KH"
      },
      "source": [
        "# Referencia Bibliográfica:\n"
      ]
    },
    {
      "cell_type": "markdown",
      "metadata": {
        "id": "bYtSMQeKY-8c"
      },
      "source": [
        "\n",
        "GÉRON, Aurélien. Hands-On Machine Learning with Scikit-Learn and TensorFlow. Sebastopol: O’reilly Media, 2017"
      ]
    }
  ]
}