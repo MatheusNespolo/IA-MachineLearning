{
  "nbformat": 4,
  "nbformat_minor": 0,
  "metadata": {
    "colab": {
      "provenance": []
    },
    "kernelspec": {
      "name": "python3",
      "display_name": "Python 3"
    },
    "language_info": {
      "name": "python"
    }
  },
  "cells": [
    {
      "cell_type": "markdown",
      "source": [
        "**IA & Big Data**\n",
        "\n",
        "Prof. Miguel Bozer da Silva - miguel.bozer@senaisp.edu.br\n",
        "\n",
        "---"
      ],
      "metadata": {
        "id": "9WprFLo4lXm4"
      }
    },
    {
      "cell_type": "code",
      "execution_count": null,
      "metadata": {
        "id": "9rkFrb1qkKJJ"
      },
      "outputs": [],
      "source": [
        "# Tratamento dos dados\n",
        "import numpy as np\n",
        "import pandas as pd\n",
        "\n",
        "# Modelos de Machine Learning\n",
        "from sklearn.model_selection import train_test_split\n",
        "from sklearn.discriminant_analysis import QuadraticDiscriminantAnalysis, LinearDiscriminantAnalysis\n",
        "from sklearn.naive_bayes import GaussianNB\n",
        "from sklearn.svm import SVC\n",
        "\n",
        "from sklearn.preprocessing import StandardScaler, MinMaxScaler\n",
        "\n",
        "# Métricas de avaliação\n",
        "from sklearn.metrics import f1_score, roc_auc_score, roc_curve, ConfusionMatrixDisplay, RocCurveDisplay, confusion_matrix, classification_report\n",
        "\n",
        "# Plot dos gráficos\n",
        "import matplotlib.pyplot as plt\n",
        "from matplotlib import colors\n",
        "import seaborn as sns\n",
        "\n",
        "# Recebendo os dados:\n",
        "from googledrivedownloader import download_file_from_google_drive as gdd"
      ]
    },
    {
      "cell_type": "markdown",
      "source": [
        "Entrada do projeto:\n",
        "\n",
        "- buying:   vhigh, high, med, low. (Preço de Compra: muito alto - 4, alto - 3, médio - 2  e baixo - 1)\n",
        "- maint:    vhigh, high, med, low. (Preço da Manutenção: muito alto - 4, alto - 3, médio - 2  e baixo - 1)\n",
        "- doors:    2, 3, 4, 5more. (nº de portas: 2, 3, 4 e 5 ou mais)\n",
        "- persons:  2, 4, more. (nº de pessoas: 2, 4 e mais)\n",
        "- lug_boot: small, med, big. (tamanho do porta malas: pequeno, médio e grande)\n",
        "- safety:   low, med, high. (segurança estimada do carro: baixo, médio e alto)\n",
        "\n",
        "Saída do projeto:\n",
        "- category: unacceptable, acceptable, good, very good  (Categoria/Nível de avaliação: inaceitável, aceitável, bom e muito bom)"
      ],
      "metadata": {
        "id": "D7UlGWG5XKxh"
      }
    },
    {
      "cell_type": "markdown",
      "source": [
        "# Preparando os dados"
      ],
      "metadata": {
        "id": "sa3pqYhxl6xW"
      }
    },
    {
      "cell_type": "markdown",
      "source": [
        "## Tarefa #1: Recebendo os dados"
      ],
      "metadata": {
        "id": "RbRI6SdWmOVC"
      }
    },
    {
      "cell_type": "code",
      "source": [
        "# Recebendo os dados:\n",
        "data_google_id = '1QbuZTpEKKLzr5gUXK0I9bnOfv0qGg3Lb'\n",
        "gdd(file_id=data_google_id,\n",
        "    dest_path = './dados.csv', # Faz o download dos dados e salva o mesmo num arquivo nomeado data.csv\n",
        "    showsize = True)\n",
        "\n",
        "# Armazenandos os dados em um DataFrame\n",
        "# para receber os dados o sep teve como argumento o valor ','. Isso ocorreu devido a\n",
        "dados = pd.read_csv(\"dados.csv\", sep = ',')"
      ],
      "metadata": {
        "id": "UtK8FTTZmPce"
      },
      "execution_count": null,
      "outputs": []
    },
    {
      "cell_type": "markdown",
      "source": [
        "## Tarefa #2: Analise Exploratória dos Dados"
      ],
      "metadata": {
        "id": "7DmbnIPSmPg-"
      }
    },
    {
      "cell_type": "code",
      "source": [
        "dados.head()"
      ],
      "metadata": {
        "id": "zPfCcyKkmPlg"
      },
      "execution_count": null,
      "outputs": []
    },
    {
      "cell_type": "markdown",
      "source": [
        "A coluna `Unnamed: 0` tem apenas os números dos index do nosso conjunto de dados. Deveremos remover essa coluna."
      ],
      "metadata": {
        "id": "OXGH8IiZZpTb"
      }
    },
    {
      "cell_type": "code",
      "source": [
        "dados.shape"
      ],
      "metadata": {
        "id": "Y1npEM48ZgmC"
      },
      "execution_count": null,
      "outputs": []
    },
    {
      "cell_type": "code",
      "source": [
        "dados.info()"
      ],
      "metadata": {
        "id": "mUZps8GfYhby"
      },
      "execution_count": null,
      "outputs": []
    },
    {
      "cell_type": "markdown",
      "source": [
        "Temos colunas do tipo object. Além disso, segunda as informações obtidas do conjunto de dados temos diversas colunas que são categóricas mas que já estão convertidas em valores numéricos. Entretanto teremos que tratar as colunas que estão com valores object."
      ],
      "metadata": {
        "id": "Ion9g2GfYl0Z"
      }
    },
    {
      "cell_type": "code",
      "source": [
        "dados.isnull().sum()"
      ],
      "metadata": {
        "id": "j0fFAQ12Yjax"
      },
      "execution_count": null,
      "outputs": []
    },
    {
      "cell_type": "markdown",
      "source": [
        "Temos valores nulos no nosso conjunto de dados. Logo DEVEMOS fazer o tratamento disso removendo os valores nulos"
      ],
      "metadata": {
        "id": "0nqtb0KiZZFT"
      }
    },
    {
      "cell_type": "code",
      "source": [
        "dados.describe()"
      ],
      "metadata": {
        "id": "RCabMfaBZkJC"
      },
      "execution_count": null,
      "outputs": []
    },
    {
      "cell_type": "markdown",
      "source": [
        "Todas as colunas possuem valores na mesma ordem de grandeza. Logo não haverá necessidade de transformar as escalas dos valores de cada coluna."
      ],
      "metadata": {
        "id": "AoVrpXSQZ0fy"
      }
    },
    {
      "cell_type": "markdown",
      "source": [
        "## Tarefa#3: Tratamento dos dados"
      ],
      "metadata": {
        "id": "bhB3P3tRaESS"
      }
    },
    {
      "cell_type": "markdown",
      "source": [
        "Removendo a coluna sem dados informativos:"
      ],
      "metadata": {
        "id": "osV72Lj9aZCq"
      }
    },
    {
      "cell_type": "code",
      "source": [
        "dados.drop(columns=['Unnamed: 0'], inplace = True)"
      ],
      "metadata": {
        "id": "22ZlaW9vaSD6"
      },
      "execution_count": null,
      "outputs": []
    },
    {
      "cell_type": "markdown",
      "source": [
        "Removendo os valores nulos:"
      ],
      "metadata": {
        "id": "9ezpF1GYadU6"
      }
    },
    {
      "cell_type": "code",
      "source": [
        "dados.dropna(inplace=True)\n",
        "dados.isnull().sum()"
      ],
      "metadata": {
        "id": "7IHmi4ssafCq"
      },
      "execution_count": null,
      "outputs": []
    },
    {
      "cell_type": "markdown",
      "source": [
        "Avaliando os valores únicos em cada coluna:"
      ],
      "metadata": {
        "id": "FYamOibtaMt6"
      }
    },
    {
      "cell_type": "code",
      "source": [
        "colunas = dados.columns\n",
        "for col in colunas:\n",
        "  print('='*60)\n",
        "  print(col)\n",
        "  print(dados[col].unique())\n",
        "  print('='*60)"
      ],
      "metadata": {
        "id": "DmPk4D-LaJoK"
      },
      "execution_count": null,
      "outputs": []
    },
    {
      "cell_type": "markdown",
      "source": [
        "Vamos aplicar o One Hot encoding nas colunas `doors` e `persons`:"
      ],
      "metadata": {
        "id": "aP6kTXKparu6"
      }
    },
    {
      "cell_type": "code",
      "source": [
        "one_hot_doors = pd.get_dummies(dados['doors'], prefix='doors')\n",
        "one_hot_doors.head()"
      ],
      "metadata": {
        "id": "d8uDr0WL43s1"
      },
      "execution_count": null,
      "outputs": []
    },
    {
      "cell_type": "code",
      "source": [
        "one_hot_persons = pd.get_dummies(dados['persons'], prefix='persons')\n",
        "one_hot_persons.head()"
      ],
      "metadata": {
        "id": "tKyMq9CWrujQ"
      },
      "execution_count": null,
      "outputs": []
    },
    {
      "cell_type": "code",
      "source": [
        "dados = pd.concat([dados, one_hot_doors, one_hot_persons], axis =1)\n",
        "dados.head()"
      ],
      "metadata": {
        "id": "D6hNylxr5Lm0"
      },
      "execution_count": null,
      "outputs": []
    },
    {
      "cell_type": "markdown",
      "source": [
        "Agora vamos fazer um drop nas colunas originais com valores do tipo object:"
      ],
      "metadata": {
        "id": "GoX-iBqRa8-K"
      }
    },
    {
      "cell_type": "code",
      "source": [
        "dados.drop(columns=['doors','persons'], inplace = True)"
      ],
      "metadata": {
        "id": "X86q9jDCbCpL"
      },
      "execution_count": null,
      "outputs": []
    },
    {
      "cell_type": "code",
      "source": [
        "dados.head()"
      ],
      "metadata": {
        "id": "GBN0R-WqbKY7"
      },
      "execution_count": null,
      "outputs": []
    },
    {
      "cell_type": "markdown",
      "source": [
        "# Aplicando IA aos nossos dados"
      ],
      "metadata": {
        "id": "pHvA5QEtmVRP"
      }
    },
    {
      "cell_type": "markdown",
      "source": [
        "## Tarefa #1: Dividindo o conjunto de dados (Entrada/Saída e Treinamento/Teste)"
      ],
      "metadata": {
        "id": "4r91qIhHbkqV"
      }
    },
    {
      "cell_type": "code",
      "source": [
        "# Separando os dados de entrada e de saída\n",
        "X = dados.drop(columns=['category'])\n",
        "y = dados[\"category\"] #Rótulos/Labels\n",
        "\n",
        "# Dividindo os dados no conjunto de teste e treinamento\n",
        "X_train, X_test, y_train, y_test = train_test_split(X,\n",
        "                                                    y,\n",
        "                                                    test_size=0.2,\n",
        "                                                    random_state=25)"
      ],
      "metadata": {
        "id": "aeAyOnmJxJ36"
      },
      "execution_count": null,
      "outputs": []
    },
    {
      "cell_type": "markdown",
      "source": [
        "## Tarefa #2: Treinando os modelos"
      ],
      "metadata": {
        "id": "k8Kb9tBGb3s1"
      }
    },
    {
      "cell_type": "code",
      "source": [
        "modelos = {}\n",
        "y_pred = {}\n",
        "for nome_modelo, modelo in modelos.items():\n",
        "  # Treinar o modelo:\n",
        "  modelo.fit(X_train, y_train)\n",
        "  y_pred[nome_modelo] = modelo.predict(X_test)"
      ],
      "metadata": {
        "id": "IFWJhTL_cA0D"
      },
      "execution_count": null,
      "outputs": []
    },
    {
      "cell_type": "markdown",
      "source": [
        "## Tarefa #3: Métricas de desempenho do modelo"
      ],
      "metadata": {
        "id": "kPuSUCs4cwEj"
      }
    },
    {
      "cell_type": "markdown",
      "source": [
        "Obtendo as matrizes de confusão:"
      ],
      "metadata": {
        "id": "LCG0xzTKfVpd"
      }
    },
    {
      "cell_type": "code",
      "source": [],
      "metadata": {
        "id": "ygROyezSw17J"
      },
      "execution_count": null,
      "outputs": []
    },
    {
      "cell_type": "code",
      "source": [
        "figure = plt.figure(figsize=(25,10))\n",
        "for i, (nome_modelo, y_p) in enumerate(y_pred.items()):\n",
        "  cm = confusion_matrix(y_true=y_test,\n",
        "                        y_pred=y_p,\n",
        "                        labels=)\n",
        "  disp = ConfusionMatrixDisplay(confusion_matrix=cm,\n",
        "                                display_labels=)\n",
        "  ax = plt.subplot(2,2,i+1)\n",
        "  disp.plot(ax=ax)\n",
        "  ax.set_title(nome_modelo)"
      ],
      "metadata": {
        "id": "rww3Xf-1fICN"
      },
      "execution_count": null,
      "outputs": []
    },
    {
      "cell_type": "markdown",
      "source": [
        "Obtendo as métricas:"
      ],
      "metadata": {
        "id": "pMMmAsgKfYNt"
      }
    },
    {
      "cell_type": "code",
      "source": [
        "for nome_modelo, y_p in y_pred.items():\n",
        "  print(f\"Métricas do modelo: {nome_modelo}\")\n",
        "  print(classification_report(y_true=y_test,\n",
        "                              y_pred=y_p))\n",
        "  print('-'*53)"
      ],
      "metadata": {
        "id": "IepvvwQLhcTm"
      },
      "execution_count": null,
      "outputs": []
    },
    {
      "cell_type": "markdown",
      "source": [
        "Podemos perceber que o modelo do SVC foi o que obteve o melhor desempenho nesse cenário. Além disso, o QDA encontrou problemas devido as ferramentas matemáticas que ele usa foram problematicas para os atributos do problema."
      ],
      "metadata": {
        "id": "jJzW6AFBhk-u"
      }
    }
  ]
}